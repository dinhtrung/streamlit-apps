{
 "cells": [
  {
   "metadata": {},
   "cell_type": "markdown",
   "source": "# Experiment code with Langchain Ollama",
   "id": "9b13d4b21002d384"
  },
  {
   "metadata": {},
   "cell_type": "markdown",
   "source": "Load the necessary libraries and set up the LLM",
   "id": "22f52c8629eb148a"
  },
  {
   "cell_type": "code",
   "id": "initial_id",
   "metadata": {
    "collapsed": true,
    "ExecuteTime": {
     "end_time": "2025-07-23T23:28:27.416797Z",
     "start_time": "2025-07-23T23:28:27.413456Z"
    }
   },
   "source": [
    "import os\n",
    "\n",
    "from dotenv import load_dotenv\n",
    "from langchain_core.messages import SystemMessage\n",
    "\n",
    "load_dotenv()"
   ],
   "outputs": [
    {
     "data": {
      "text/plain": [
       "True"
      ]
     },
     "execution_count": 3,
     "metadata": {},
     "output_type": "execute_result"
    }
   ],
   "execution_count": 3
  },
  {
   "metadata": {
    "ExecuteTime": {
     "end_time": "2025-07-23T23:28:29.398629Z",
     "start_time": "2025-07-23T23:28:29.251883Z"
    }
   },
   "cell_type": "code",
   "source": [
    "from langchain_ollama import ChatOllama, OllamaEmbeddings\n",
    "from langfuse.langchain import CallbackHandler\n",
    "\n",
    "llm = ChatOllama(model=os.environ['OLLAMA_MODEL'], reasoning=True, callbacks=[CallbackHandler()])\n",
    "embeddings = OllamaEmbeddings(model=os.environ['OLLAMA_EMBEDDINGS'])\n"
   ],
   "id": "2a793aef0d54297e",
   "outputs": [],
   "execution_count": 4
  },
  {
   "metadata": {},
   "cell_type": "markdown",
   "source": "### Run some prompt for testing",
   "id": "9c29f613f939871f"
  },
  {
   "metadata": {
    "jupyter": {
     "is_executing": true
    },
    "ExecuteTime": {
     "start_time": "2025-07-23T23:32:34.922685Z"
    }
   },
   "cell_type": "code",
   "source": [
    "from langchain_core.prompts import ChatPromptTemplate\n",
    "from langchain_core.messages import HumanMessage, SystemMessage\n",
    "prompt = ChatPromptTemplate.from_messages([\n",
    "    SystemMessage(content=\"You are an {role}. User will you give you a task. Your goal is to complete the task as faithfully as you can. While performing the task think step-by\"),\n",
    "    HumanMessage(content=\"{user_prompt}\"),\n",
    "])\n",
    "\n",
    "chain = prompt | llm\n",
    "response = chain.invoke({\n",
    "    \"role\": \"AI assistant\",\n",
    "    \"user_prompt\": \"Suggest the best practices for parsing HTML documents with lxml\"\n",
    "})\n",
    "print(response)"
   ],
   "id": "ed62ac23fa7d8a31",
   "outputs": [],
   "execution_count": null
  }
 ],
 "metadata": {
  "kernelspec": {
   "display_name": "Python 3",
   "language": "python",
   "name": "python3"
  },
  "language_info": {
   "codemirror_mode": {
    "name": "ipython",
    "version": 2
   },
   "file_extension": ".py",
   "mimetype": "text/x-python",
   "name": "python",
   "nbconvert_exporter": "python",
   "pygments_lexer": "ipython2",
   "version": "2.7.6"
  }
 },
 "nbformat": 4,
 "nbformat_minor": 5
}
